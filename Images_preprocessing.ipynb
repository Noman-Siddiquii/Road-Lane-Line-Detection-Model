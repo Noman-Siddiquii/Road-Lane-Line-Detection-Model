{
 "cells": [
  {
   "cell_type": "code",
   "execution_count": 6,
   "id": "85237325",
   "metadata": {},
   "outputs": [],
   "source": [
    "import cv2\n",
    "import os\n",
    "import numpy as np\n",
    "def detect_road_lines(image_path):\n",
    "\n",
    "\n",
    "    # Read the image\n",
    "    img = cv2.imread(image_path)\n",
    "\n",
    "    # Convert to grayscale for better edge detection\n",
    "    gray = cv2.cvtColor(img, cv2.COLOR_BGR2GRAY)\n",
    "\n",
    "    # Apply Gaussian blur to reduce noise\n",
    "    blur = cv2.GaussianBlur(gray, (5, 5), 0)\n",
    "\n",
    "    # Apply Canny edge detection\n",
    "    edges = cv2.Canny(blur, 50, 150)\n",
    "\n",
    "    # Define Hough transform parameters (adjust as needed)\n",
    "    rho = 1  # Distance resolution in parameter space\n",
    "    theta = np.pi / 180  # Angle resolution in parameter space\n",
    "    threshold = 100  # Minimum number of votes to consider a line\n",
    "    min_line_length = 100  # Minimum length of line segment\n",
    "    max_line_gap = 50  # Maximum gap between line segments\n",
    "\n",
    "    # Apply probabilistic Hough line transform\n",
    "    lines = cv2.HoughLinesP(edges, rho, theta, threshold,\n",
    "                             minLineLength=min_line_length, maxLineGap=max_line_gap)\n",
    "\n",
    "    # Create a black copy of the original image for visualization (using recommended approach)\n",
    "    output = np.zeros_like(img)\n",
    "\n",
    "    # Draw detected lines on the black image (optional)\n",
    "    if lines is not None:\n",
    "        for line in lines:\n",
    "            x1, y1, x2, y2 = line[0]\n",
    "            cv2.line(output, (x1, y1), (x2, y2), (255, 255, 255), 3)\n",
    "\n",
    "    return output  # Optionally return the original image with lines drawn: cv2.addWeighted(img, 0.8, output, 1.0, 0)"
   ]
  },
  {
   "cell_type": "code",
   "execution_count": 7,
   "id": "24479e4a",
   "metadata": {},
   "outputs": [],
   "source": [
    "def process_images(directory, output_directory):  # Added output_directory parameter\n",
    "    \"\"\"\n",
    "    Processes all images in a directory using detect_road_lines and saves the results\n",
    "    in a separate directory.\n",
    "\n",
    "    Args:\n",
    "        directory (str): Path to the directory containing images.\n",
    "        output_directory (str): Path to the directory where processed images will be saved.\n",
    "    \"\"\"\n",
    "\n",
    "    for filename in os.listdir(directory):\n",
    "        if filename.endswith(\".jpg\") or filename.endswith(\".png\"):\n",
    "            image_path = os.path.join(directory, filename)\n",
    "            output_image = detect_road_lines(image_path)\n",
    "\n",
    "            # Save the processed image with a descriptive filename in the output directory\n",
    "            output_filename = os.path.splitext(filename)[0] + \"_hough_lines.jpg\"\n",
    "            output_path = os.path.join(output_directory, output_filename)\n",
    "            cv2.imwrite(output_path, output_image)\n",
    "\n",
    "# Example usage (uncomment the desired option)\n",
    "    # Option 1: Specify output directory in the function call\n",
    "image_directory = \"C:/Users/Probook/Desktop/Road Lane Line Detector/Road_Lane_Detector-main/training/Frame\"\n",
    "output_directory = \"C:/Users/Probook/Desktop/Road Lane Line Detector/Road_Lane_Detector-main/training/Lane\"  # Specify desired output path\n",
    "process_images(image_directory, output_directory)\n"
   ]
  },
  {
   "cell_type": "code",
   "execution_count": null,
   "id": "3a336193",
   "metadata": {},
   "outputs": [],
   "source": []
  },
  {
   "cell_type": "code",
   "execution_count": null,
   "id": "d9bb54b4",
   "metadata": {},
   "outputs": [],
   "source": []
  }
 ],
 "metadata": {
  "kernelspec": {
   "display_name": "Python 3 (ipykernel)",
   "language": "python",
   "name": "python3"
  },
  "language_info": {
   "codemirror_mode": {
    "name": "ipython",
    "version": 3
   },
   "file_extension": ".py",
   "mimetype": "text/x-python",
   "name": "python",
   "nbconvert_exporter": "python",
   "pygments_lexer": "ipython3",
   "version": "3.11.4"
  },
  "vscode": {
   "interpreter": {
    "hash": "3c06e3e46abf38078fe4dac36a0085ec2b134ebbd73dd076183d243eeca6918f"
   }
  }
 },
 "nbformat": 4,
 "nbformat_minor": 5
}
